{
 "cells": [
  {
   "cell_type": "code",
   "execution_count": null,
   "id": "2ac59932-7d5e-432c-ac06-95f1166938db",
   "metadata": {},
   "outputs": [],
   "source": []
  }
 ],
 "metadata": {
  "kernelspec": {
   "display_name": "",
   "name": ""
  },
  "language_info": {
   "name": ""
  }
 },
 "nbformat": 4,
 "nbformat_minor": 5
}
